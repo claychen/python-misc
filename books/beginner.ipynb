{
 "metadata": {
  "name": ""
 },
 "nbformat": 3,
 "nbformat_minor": 0,
 "worksheets": [
  {
   "cells": [
    {
     "cell_type": "markdown",
     "metadata": {},
     "source": [
      "# A Beginner's Python Tutorial\n",
      "### http://en.wikibooks.org/wiki/A_Beginner's_Python_Tutorial/"
     ]
    },
    {
     "cell_type": "markdown",
     "metadata": {},
     "source": [
      "    Acknowledgments\n",
      "    Lesson 0: Installing Python\n",
      "    Lesson 1: Very Simple Programs\n",
      "    Lesson 2: Variables, Scripts\n",
      "    Lesson 3: Loops, Conditionals\n",
      "    Lesson 4: Functions\n",
      "    Lesson 5: Tuples, Lists, Dictionaries\n",
      "    Lesson 6: for Loop\n",
      "    Lesson 7: Classes\n",
      "    Lesson 8: Importing Modules\n",
      "    Lesson 9: File I/O\n",
      "    Lesson 10: Exception Handling"
     ]
    },
    {
     "cell_type": "markdown",
     "metadata": {},
     "source": [
      "# order of operation\n",
      "```\n",
      "   1 parentheses ()\n",
      "   2 exponents **\n",
      "   3 multiplication *, division \\, and remainder %\n",
      "   4 addition + and subtraction -\n",
      "```"
     ]
    },
    {
     "cell_type": "code",
     "collapsed": false,
     "input": [
      "print \"Mary had a little lamb,\"\n",
      "print \"its fleece was white as snow;\"\n",
      "print \"and everywhere that Mary went\",\n",
      "print \"her lamb was sure to go.\""
     ],
     "language": "python",
     "metadata": {},
     "outputs": [
      {
       "output_type": "stream",
       "stream": "stdout",
       "text": [
        "Mary had a little lamb,\n",
        "its fleece was white as snow;\n",
        "and everywhere that Mary went her lamb was sure to go.\n"
       ]
      }
     ],
     "prompt_number": 2
    },
    {
     "cell_type": "code",
     "collapsed": false,
     "input": [
      "# In python, assignmen and augmented assignment are statements, not expressions\n",
      "v=1\n",
      "v += 5\n",
      "v -= 5\n",
      "v *= 5\n",
      "v /= 5"
     ],
     "language": "python",
     "metadata": {},
     "outputs": [],
     "prompt_number": 12
    },
    {
     "cell_type": "code",
     "collapsed": false,
     "input": [
      "a = 0\n",
      "while a < 10:\n",
      "    a = a + 1\n",
      "    print a\n"
     ],
     "language": "python",
     "metadata": {},
     "outputs": [
      {
       "output_type": "stream",
       "stream": "stdout",
       "text": [
        "1\n",
        "2\n",
        "3\n",
        "4\n",
        "5\n",
        "6\n",
        "7\n",
        "8\n",
        "9\n",
        "10\n"
       ]
      }
     ],
     "prompt_number": 15
    },
    {
     "cell_type": "code",
     "collapsed": false,
     "input": [
      "# calculator program\n",
      " \n",
      "# NO CODE IS REALLY RUN HERE, IT IS ONLY TELLING US WHAT WE WILL DO LATER\n",
      "# Here we will define our functions\n",
      "# this prints the main menu, and prompts for a choice\n",
      "def menu():\n",
      "    #print what options you have\n",
      "    print \"Welcome to calculator.py\"\n",
      "    print \"your options are:\"\n",
      "    print \" \"\n",
      "    print \"1) Addition\"\n",
      "    print \"2) Subtraction\"\n",
      "    print \"3) Multiplication\"\n",
      "    print \"4) Division\"\n",
      "    print \"5) Quit calculator.py\"\n",
      "    print \" \"\n",
      "    return input (\"Choose your option: \")\n",
      " \n",
      "# this adds two numbers given\n",
      "def add(a,b):\n",
      "    print a, \"+\", b, \"=\", a + b\n",
      " \n",
      "# this subtracts two numbers given\n",
      "def sub(a,b):\n",
      "    print b, \"-\", a, \"=\", b - a\n",
      " \n",
      "# this multiplies two numbers given\n",
      "def mul(a,b):\n",
      "    print a, \"*\", b, \"=\", a * b\n",
      " \n",
      "# this divides two numbers given\n",
      "def div(a,b):\n",
      "    print a, \"/\", b, \"=\", a / b\n",
      " \n",
      "# NOW THE PROGRAM REALLY STARTS, AS CODE IS RUN\n",
      "loop = 1\n",
      "choice = 0\n",
      "while loop == 1:\n",
      "    choice = menu()\n",
      "    if choice == 1:\n",
      "        add(input(\"Add this: \"),input(\"to this: \"))\n",
      "    elif choice == 2:\n",
      "        sub(input(\"Subtract this: \"),input(\"from this: \"))\n",
      "    elif choice == 3:\n",
      "        mul(input(\"Multiply this: \"),input(\"by this: \"))\n",
      "    elif choice == 4:\n",
      "        div(input(\"Divide this: \"),input(\"by this: \"))\n",
      "    elif choice == 5:\n",
      "        loop = 0\n",
      " \n",
      "print \"Thank you for using calculator.py!\"\n",
      " \n",
      "# NOW THE PROGRAM REALLY FINISHES"
     ],
     "language": "python",
     "metadata": {},
     "outputs": []
    },
    {
     "cell_type": "markdown",
     "metadata": {},
     "source": [
      "### List Tuple Dict"
     ]
    },
    {
     "cell_type": "code",
     "collapsed": false,
     "input": [
      "months = ('January','February','March','April','May','June',\\\n",
      "'July','August','September','October','November','  December')\n",
      "print months"
     ],
     "language": "python",
     "metadata": {},
     "outputs": [
      {
       "output_type": "stream",
       "stream": "stdout",
       "text": [
        "('January', 'February', 'March', 'April', 'May', 'June', 'July', 'August', 'September', 'October', 'November', '  December')\n"
       ]
      }
     ],
     "prompt_number": 3
    },
    {
     "cell_type": "code",
     "collapsed": false,
     "input": [
      "cats = ['Tom', 'Snappy', 'Kitty', 'Jessie', 'Chester']\n",
      "print cats[2]\n",
      "cats.append('Catherine')\n",
      "del cats[1]"
     ],
     "language": "python",
     "metadata": {},
     "outputs": [
      {
       "output_type": "stream",
       "stream": "stdout",
       "text": [
        "Kitty\n"
       ]
      }
     ],
     "prompt_number": 5
    },
    {
     "cell_type": "code",
     "collapsed": false,
     "input": [
      "phonebook = {'Andrew Parson':8806336, \\\n",
      "'Emily Everett':6784346, 'Peter Power':7658344, \\\n",
      "'Lewis Lame':1122345}\n",
      "phonebook['Gingerbread Man'] = 1234567\n",
      "del phonebook['Andrew Parson']"
     ],
     "language": "python",
     "metadata": {},
     "outputs": [],
     "prompt_number": 9
    },
    {
     "cell_type": "markdown",
     "metadata": {},
     "source": [
      "### Functions of dictionaries"
     ]
    },
    {
     "cell_type": "code",
     "collapsed": false,
     "input": [
      "#A few examples of a dictionary\n",
      " \n",
      "#First we define the dictionary\n",
      "#it will have nothing in it this time\n",
      "ages = {}\n",
      " \n",
      "#Add a couple of names to the dictionary\n",
      "ages['Sue'] = 23\n",
      "ages['Peter'] = 19\n",
      "ages['Andrew'] = 78\n",
      "ages['Karren'] = 45\n",
      " \n",
      "#Use the function has_key() - \n",
      "#This function takes this form:\n",
      "#function_name.has_key(key-name)\n",
      "#It returns TRUE\n",
      "#if the dictionary has key-name in it\n",
      "#but returns FALSE if it doesn't.\n",
      "#Remember - this is how 'if' statements work -\n",
      "#they run if something is true\n",
      "#and they don't when something is false.\n",
      "if ages.has_key('Sue'):\n",
      "    print \"Sue is in the dictionary. She is\", \\\n",
      "ages['Sue'], \"years old\"\n",
      " \n",
      "else:\n",
      "    print \"Sue is not in the dictionary\"\n",
      " \n",
      "#Use the function keys() - \n",
      "#This function returns a list\n",
      "#of all the names of the keys.\n",
      "#E.g.\n",
      "print \"The following people are in the dictionary:\"\n",
      "print ages.keys()\n",
      " \n",
      "#You could use this function to\n",
      "#put all the key names in a list:\n",
      "keys = ages.keys()\n",
      " \n",
      "#You can also get a list\n",
      "#of all the values in a dictionary.\n",
      "#You use the values() function:\n",
      "print \"People are aged the following:\", \\\n",
      "ages.values()\n",
      " \n",
      "#Put it in a list:\n",
      "values = ages.values()\n",
      " \n",
      "#You can sort lists, with the sort() function\n",
      "#It will sort all values in a list\n",
      "#alphabetically, numerically, etc...\n",
      "#You can't sort dictionaries - \n",
      "#they are in no particular order\n",
      "print keys\n",
      "keys.sort()\n",
      "print keys\n",
      " \n",
      "print values\n",
      "values.sort()\n",
      "print values\n",
      " \n",
      "#You can find the number of entries\n",
      "#with the len() function:\n",
      "print \"The dictionary has\", \\\n",
      "len(ages), \"entries in it\""
     ],
     "language": "python",
     "metadata": {},
     "outputs": []
    },
    {
     "cell_type": "code",
     "collapsed": false,
     "input": [
      "word = raw_input(\"Who do you go for? \")\n",
      " \n",
      "for letter in word:\n",
      "    call = \"Gimme a \" + letter + \"!\"\n",
      "    print call\n",
      "    print letter + \"!\"\n",
      " \n",
      "print \"What does that spell?\"\n",
      "print word + \"!\""
     ],
     "language": "python",
     "metadata": {},
     "outputs": [
      {
       "name": "stdout",
       "output_type": "stream",
       "stream": "stdout",
       "text": [
        "Who do you go for? world\n"
       ]
      },
      {
       "output_type": "stream",
       "stream": "stdout",
       "text": [
        "Gimme a w!\n",
        "w!\n",
        "Gimme a o!\n",
        "o!\n",
        "Gimme a r!\n",
        "r!\n",
        "Gimme a l!\n",
        "l!\n",
        "Gimme a d!\n",
        "d!\n",
        "What does that spell?\n",
        "world!\n"
       ]
      }
     ],
     "prompt_number": 10
    },
    {
     "cell_type": "code",
     "collapsed": false,
     "input": [
      "#TEXT ADVENTURE GAME\n",
      " \n",
      "#the menu function:\n",
      "def menu(list, question):\n",
      "    for entry in list:\n",
      "        print 1 + list.index(entry),\n",
      "        print \") \" + entry\n",
      " \n",
      "    return input(question) - 1\n",
      " \n",
      "def inspect(choice,location):\n",
      "    if choice == location:\n",
      "        print \"\"\n",
      "        print \"You found a key!\"\n",
      "        print \"\"\n",
      "        return 1\n",
      "    else:\n",
      "        print \"\"\n",
      "        print \"Nothing of interest here.\"\n",
      "        print \"\"\n",
      "        return 0\n",
      "#Give the computer some basic information about the room:\n",
      "items = [\"pot plant\",\"painting\",\"vase\",\"lampshade\",\"shoe\",\"door\"]\n",
      " \n",
      "#The key is in the vase (or entry number 2 in the list above):\n",
      "keylocation = 2\n",
      " \n",
      "#You haven't found the key:\n",
      "keyfound = 0\n",
      " \n",
      "loop = 1\n",
      " \n",
      "#Give some introductary text:\n",
      "print \"Last night you went to sleep in the comfort of your own home.\"\n",
      " \n",
      "print \"Now, you find yourself locked in a room. You don't know how\"\n",
      "print \"you got there, or what time it is. In the room you can see\"\n",
      "print len(items), \"things:\"\n",
      "for x in items:\n",
      "    print x\n",
      "print \"\"\n",
      "print \"The door is locked. Could there be a key somewhere?\"\n",
      "#Get your menu working, and the program running until you find the key:\n",
      "while loop == 1:\n",
      "    keyfound = inspect( menu(items,\"What do you want to inspect? \"), keylocation)\n",
      "    if keyfound == 1:\n",
      "        loop = 0\n",
      "        print \"You put the key in the lock of the door, and turn it. It opens!\"\n",
      " \n",
      "# Remember that a backslash continues\n",
      "# the code on the next line\n",
      "print \"Light floods into the room as \\\n",
      "you open the door to your freedom.\""
     ],
     "language": "python",
     "metadata": {},
     "outputs": [
      {
       "output_type": "stream",
       "stream": "stdout",
       "text": [
        "Last night you went to sleep in the comfort of your own home.\n",
        "Now, you find yourself locked in a room. You don't know how\n",
        "you got there, or what time it is. In the room you can see\n",
        "6 things:\n",
        "pot plant\n",
        "painting\n",
        "vase\n",
        "lampshade\n",
        "shoe\n",
        "door\n",
        "\n",
        "The door is locked. Could there be a key somewhere?\n",
        "1 ) pot plant\n",
        "2 ) painting\n",
        "3 ) vase\n",
        "4 ) lampshade\n",
        "5 ) shoe\n",
        "6 ) door\n"
       ]
      },
      {
       "name": "stdout",
       "output_type": "stream",
       "stream": "stdout",
       "text": [
        "What do you want to inspect? 2\n"
       ]
      },
      {
       "output_type": "stream",
       "stream": "stdout",
       "text": [
        "\n",
        "Nothing of interest here.\n",
        "\n",
        "The door is locked, you need to find a key.\n",
        "\n",
        "1 ) pot plant\n",
        "2 ) painting\n",
        "3 ) vase\n",
        "4 ) lampshade\n",
        "5 ) shoe\n",
        "6 ) door\n"
       ]
      },
      {
       "name": "stdout",
       "output_type": "stream",
       "stream": "stdout",
       "text": [
        "What do you want to inspect? 3\n"
       ]
      },
      {
       "output_type": "stream",
       "stream": "stdout",
       "text": [
        "\n",
        "You found a key!\n",
        "\n",
        "You put in the key, turn it, and hear a click\n",
        "\n",
        "Light floods into the room as you open the door to your freedom.\n"
       ]
      }
     ],
     "prompt_number": 14
    },
    {
     "cell_type": "markdown",
     "metadata": {},
     "source": [
      "###Module"
     ]
    },
    {
     "cell_type": "code",
     "collapsed": false,
     "input": [],
     "language": "python",
     "metadata": {},
     "outputs": []
    },
    {
     "cell_type": "markdown",
     "metadata": {},
     "source": [
      "### files\n",
      "```\n",
      "    seek(offset, whence). \n",
      "        If whence is 0, the bytes/letters are counted from the beginning.\n",
      "        If it is 1, the bytes are counted from the current cursor position. \n",
      "        If it is 2, then the bytes are counted from the end of the file. If nothing is put there, 0 is assumed.\n",
      "    tell() returns where the cursor is in the file.\n",
      "    readline() reads from where the cursor is till the end of the line\n",
      "    readlines() is much like readline(), however readlines() reads all the lines from the cursor onwards, and returns a list,\n",
      "    write() writes to the file.\n",
      "    close() closes the file so that you can no longer read or write\n",
      "```"
     ]
    },
    {
     "cell_type": "markdown",
     "metadata": {},
     "source": [
      "```\n",
      "import pickle\n",
      " \n",
      "# lets create something to be pickled\n",
      "# How about a list?\n",
      "picklelist = ['one',2,'three','four',5,'can you count?']\n",
      " \n",
      "# now create a file\n",
      "# replace filename with the file you want to create\n",
      "file = open('filename', 'w')\n",
      " \n",
      "# now let's pickle picklelist\n",
      "pickle.dump(picklelist,file)\n",
      " \n",
      "# close the file, and your pickling is complete\n",
      "file.close()\n",
      "\n",
      "import pickle\n",
      " \n",
      "# now open a file for reading\n",
      "# replace filename with the path to the file you created in pickletest.py\n",
      "unpicklefile = open('filename', 'r')\n",
      " \n",
      "# now load the list that we pickled into a new object\n",
      "unpickledlist = pickle.load(unpicklefile)\n",
      " \n",
      "# close the file, just for safety\n",
      "unpicklefile.close()\n",
      " \n",
      "# Try out using the list\n",
      "for item in unpickledlist:\n",
      "    print item\n",
      "    \n",
      "```"
     ]
    },
    {
     "cell_type": "markdown",
     "metadata": {},
     "source": [
      "###Exception"
     ]
    },
    {
     "cell_type": "code",
     "collapsed": false,
     "input": [
      "def menu(list, question):\n",
      "    for entry in list:\n",
      "        print 1 + list.index(entry),\n",
      "        print \") \" + entry\n",
      " \n",
      "    return raw_input(question) - 1\n",
      " \n",
      "# running the function\n",
      "# remember what the backslash does\n",
      "answer = menu(['A','B','C','D','E','F','H','I'],\\\n",
      "'Which letter is your favourite? ')\n",
      " \n",
      "print 'You picked answer ' + (answer + 1)"
     ],
     "language": "python",
     "metadata": {},
     "outputs": [
      {
       "output_type": "stream",
       "stream": "stdout",
       "text": [
        "1 ) A\n",
        "2 ) B\n",
        "3 ) C\n",
        "4 ) D\n",
        "5 ) E\n",
        "6 ) F\n",
        "7 ) H\n",
        "8 ) I\n"
       ]
      },
      {
       "name": "stdout",
       "output_type": "stream",
       "stream": "stdout",
       "text": [
        "Which letter is your favourite? 5\n"
       ]
      },
      {
       "ename": "TypeError",
       "evalue": "unsupported operand type(s) for -: 'str' and 'int'",
       "output_type": "pyerr",
       "traceback": [
        "\u001b[0;31m---------------------------------------------------------------------------\u001b[0m\n\u001b[0;31mTypeError\u001b[0m                                 Traceback (most recent call last)",
        "\u001b[0;32m<ipython-input-1-c7e5a6dc1a24>\u001b[0m in \u001b[0;36m<module>\u001b[0;34m()\u001b[0m\n\u001b[1;32m      8\u001b[0m \u001b[0;31m# running the function\u001b[0m\u001b[0;34m\u001b[0m\u001b[0;34m\u001b[0m\u001b[0m\n\u001b[1;32m      9\u001b[0m \u001b[0;31m# remember what the backslash does\u001b[0m\u001b[0;34m\u001b[0m\u001b[0;34m\u001b[0m\u001b[0m\n\u001b[0;32m---> 10\u001b[0;31m \u001b[0manswer\u001b[0m \u001b[0;34m=\u001b[0m \u001b[0mmenu\u001b[0m\u001b[0;34m(\u001b[0m\u001b[0;34m[\u001b[0m\u001b[0;34m'A'\u001b[0m\u001b[0;34m,\u001b[0m\u001b[0;34m'B'\u001b[0m\u001b[0;34m,\u001b[0m\u001b[0;34m'C'\u001b[0m\u001b[0;34m,\u001b[0m\u001b[0;34m'D'\u001b[0m\u001b[0;34m,\u001b[0m\u001b[0;34m'E'\u001b[0m\u001b[0;34m,\u001b[0m\u001b[0;34m'F'\u001b[0m\u001b[0;34m,\u001b[0m\u001b[0;34m'H'\u001b[0m\u001b[0;34m,\u001b[0m\u001b[0;34m'I'\u001b[0m\u001b[0;34m]\u001b[0m\u001b[0;34m,\u001b[0m\u001b[0;34m'Which letter is your favourite? '\u001b[0m\u001b[0;34m)\u001b[0m\u001b[0;34m\u001b[0m\u001b[0m\n\u001b[0m\u001b[1;32m     11\u001b[0m \u001b[0;34m\u001b[0m\u001b[0m\n\u001b[1;32m     12\u001b[0m \u001b[0;32mprint\u001b[0m \u001b[0;34m'You picked answer '\u001b[0m \u001b[0;34m+\u001b[0m \u001b[0;34m(\u001b[0m\u001b[0manswer\u001b[0m \u001b[0;34m+\u001b[0m \u001b[0;36m1\u001b[0m\u001b[0;34m)\u001b[0m\u001b[0;34m\u001b[0m\u001b[0m\n",
        "\u001b[0;32m<ipython-input-1-c7e5a6dc1a24>\u001b[0m in \u001b[0;36mmenu\u001b[0;34m(list, question)\u001b[0m\n\u001b[1;32m      4\u001b[0m         \u001b[0;32mprint\u001b[0m \u001b[0;34m\") \"\u001b[0m \u001b[0;34m+\u001b[0m \u001b[0mentry\u001b[0m\u001b[0;34m\u001b[0m\u001b[0m\n\u001b[1;32m      5\u001b[0m \u001b[0;34m\u001b[0m\u001b[0m\n\u001b[0;32m----> 6\u001b[0;31m     \u001b[0;32mreturn\u001b[0m \u001b[0mraw_input\u001b[0m\u001b[0;34m(\u001b[0m\u001b[0mquestion\u001b[0m\u001b[0;34m)\u001b[0m \u001b[0;34m-\u001b[0m \u001b[0;36m1\u001b[0m\u001b[0;34m\u001b[0m\u001b[0m\n\u001b[0m\u001b[1;32m      7\u001b[0m \u001b[0;34m\u001b[0m\u001b[0m\n\u001b[1;32m      8\u001b[0m \u001b[0;31m# running the function\u001b[0m\u001b[0;34m\u001b[0m\u001b[0;34m\u001b[0m\u001b[0m\n",
        "\u001b[0;31mTypeError\u001b[0m: unsupported operand type(s) for -: 'str' and 'int'"
       ]
      }
     ],
     "prompt_number": 1
    },
    {
     "cell_type": "code",
     "collapsed": false,
     "input": [
      "print 'Subtraction program, v0.0.3 (beta)'\n",
      "loop = 1\n",
      "while loop == 1:\n",
      "    try:\n",
      "        a = input('Enter a number to subtract from > ')\n",
      "        b = input('Enter the number to subtract > ')\n",
      "    except NameError:\n",
      "        print \"\\nYou cannot subtract a letter\"\n",
      "\tcontinue\n",
      "    except SyntaxError:\n",
      "        print \"\\nPlease enter a number only.\"\n",
      "\tcontinue\n",
      "    print a - b\n",
      "    try:\n",
      "        loop = input('Press 1 to try again > ')\n",
      "    except (NameError,SyntaxError):\n",
      "        loop = 0"
     ],
     "language": "python",
     "metadata": {},
     "outputs": [
      {
       "output_type": "stream",
       "stream": "stdout",
       "text": [
        "Subtraction program, v0.0.3 (beta)\n"
       ]
      },
      {
       "name": "stdout",
       "output_type": "stream",
       "stream": "stdout",
       "text": [
        "Enter a number to subtract from >  \n"
       ]
      },
      {
       "output_type": "stream",
       "stream": "stdout",
       "text": [
        "\n",
        "Please enter a number only.\n"
       ]
      },
      {
       "name": "stdout",
       "output_type": "stream",
       "stream": "stdout",
       "text": [
        "Enter a number to subtract from > \\n\n"
       ]
      },
      {
       "output_type": "stream",
       "stream": "stdout",
       "text": [
        "\n",
        "Please enter a number only.\n"
       ]
      },
      {
       "name": "stdout",
       "output_type": "stream",
       "stream": "stdout",
       "text": [
        "Enter a number to subtract from > \\d\n"
       ]
      },
      {
       "output_type": "stream",
       "stream": "stdout",
       "text": [
        "\n",
        "Please enter a number only.\n"
       ]
      },
      {
       "name": "stdout",
       "output_type": "stream",
       "stream": "stdout",
       "text": [
        "Enter a number to subtract from > exit\n"
       ]
      },
      {
       "output_type": "stream",
       "stream": "stdout",
       "text": [
        "\n",
        "You cannot subtract a letter\n"
       ]
      },
      {
       "name": "stdout",
       "output_type": "stream",
       "stream": "stdout",
       "text": [
        "Enter a number to subtract from > adsf\n"
       ]
      },
      {
       "output_type": "stream",
       "stream": "stdout",
       "text": [
        "\n",
        "You cannot subtract a letter\n"
       ]
      },
      {
       "name": "stdout",
       "output_type": "stream",
       "stream": "stdout",
       "text": [
        "Enter a number to subtract from > \n"
       ]
      },
      {
       "output_type": "stream",
       "stream": "stdout",
       "text": [
        "\n",
        "Please enter a number only.\n"
       ]
      },
      {
       "name": "stdout",
       "output_type": "stream",
       "stream": "stdout",
       "text": [
        "Enter a number to subtract from > \n"
       ]
      },
      {
       "output_type": "stream",
       "stream": "stdout",
       "text": [
        "\n",
        "Please enter a number only.\n"
       ]
      },
      {
       "name": "stdout",
       "output_type": "stream",
       "stream": "stdout",
       "text": [
        "Enter a number to subtract from > 1\n"
       ]
      },
      {
       "name": "stdout",
       "output_type": "stream",
       "stream": "stdout",
       "text": [
        "Enter the number to subtract > 3\n"
       ]
      },
      {
       "output_type": "stream",
       "stream": "stdout",
       "text": [
        "-2\n"
       ]
      },
      {
       "name": "stdout",
       "output_type": "stream",
       "stream": "stdout",
       "text": [
        "Press 1 to try again > 1\n"
       ]
      },
      {
       "name": "stdout",
       "output_type": "stream",
       "stream": "stdout",
       "text": [
        "Enter a number to subtract from > A\n"
       ]
      },
      {
       "output_type": "stream",
       "stream": "stdout",
       "text": [
        "\n",
        "You cannot subtract a letter\n"
       ]
      },
      {
       "name": "stdout",
       "output_type": "stream",
       "stream": "stdout",
       "text": [
        "Enter a number to subtract from > B\n"
       ]
      },
      {
       "output_type": "stream",
       "stream": "stdout",
       "text": [
        "\n",
        "You cannot subtract a letter\n"
       ]
      },
      {
       "name": "stdout",
       "output_type": "stream",
       "stream": "stdout",
       "text": [
        "Enter a number to subtract from > 1\n"
       ]
      },
      {
       "name": "stdout",
       "output_type": "stream",
       "stream": "stdout",
       "text": [
        "Enter the number to subtract > 2\n"
       ]
      },
      {
       "output_type": "stream",
       "stream": "stdout",
       "text": [
        "-1\n"
       ]
      },
      {
       "name": "stdout",
       "output_type": "stream",
       "stream": "stdout",
       "text": [
        "Press 1 to try again > sdf\n"
       ]
      }
     ],
     "prompt_number": 5
    },
    {
     "cell_type": "code",
     "collapsed": false,
     "input": [],
     "language": "python",
     "metadata": {},
     "outputs": []
    }
   ],
   "metadata": {}
  }
 ]
}