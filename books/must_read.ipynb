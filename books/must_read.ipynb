{
 "metadata": {
  "name": ""
 },
 "nbformat": 3,
 "nbformat_minor": 0,
 "worksheets": [
  {
   "cells": [
    {
     "cell_type": "markdown",
     "metadata": {},
     "source": [
      "### Iterables  & Generator & yield\n",
      "http://stackoverflow.com/questions/231767/the-python-yield-keyword-explained/231855#231855\n",
      "### \u9019\u500b\u7bc4\u4f8b\u7c21\u76f4\u4f5b\u5fc3\u4f86\u8457"
     ]
    },
    {
     "cell_type": "code",
     "collapsed": false,
     "input": [
      "# iteratable such as lists, strings, files. Load all context into memory at once\n",
      "mylist = [x*x for x in range(3)]\n",
      "for i in mylist:\n",
      "    print(i)"
     ],
     "language": "python",
     "metadata": {},
     "outputs": []
    },
    {
     "cell_type": "code",
     "collapsed": false,
     "input": [
      "# generator. Evaluate every item on the fly. Cannot perform them second time.\n",
      "mygenerator = (x*x for x in range(3))\n",
      "for i in mygenerator:\n",
      "    print(i)"
     ],
     "language": "python",
     "metadata": {},
     "outputs": [
      {
       "output_type": "stream",
       "stream": "stdout",
       "text": [
        "0\n",
        "1\n",
        "4\n"
       ]
      }
     ],
     "prompt_number": 1
    },
    {
     "cell_type": "code",
     "collapsed": false,
     "input": [
      "def createGenerator():\n",
      "    print 'start'\n",
      "    mylist = range(3)\n",
      "    for i in mylist:\n",
      "        if i == 2:\n",
      "            mylist.append(3)\n",
      "            mylist.append(4)\n",
      "        \n",
      "        if i != 4:\n",
      "            yield i*i\n",
      "    print 'end'\n",
      "mygenerator = createGenerator() # create a generator\n",
      "print(mygenerator) # mygenerator is an object!\n",
      "#<generator object createGenerator at 0xb7555c34>\n",
      "print '-----'\n",
      "for i in mygenerator:\n",
      "    print(i)"
     ],
     "language": "python",
     "metadata": {},
     "outputs": [
      {
       "output_type": "stream",
       "stream": "stdout",
       "text": [
        "<generator object createGenerator at 0x7fb50cd6fbe0>\n",
        "-----\n",
        "start\n",
        "0\n",
        "1\n",
        "4\n",
        "9\n",
        "end\n"
       ]
      }
     ],
     "prompt_number": 14
    },
    {
     "cell_type": "markdown",
     "metadata": {},
     "source": [
      "To master yield, you must understand that **when you call the function, the code you have written in the function body does not run.** The function only returns the generator object, this is a bit tricky :-)\n"
     ]
    },
    {
     "cell_type": "code",
     "collapsed": false,
     "input": [
      "# fibnacci number\n",
      "def fib( size = 10 ):\n",
      "    a, b = 0,1\n",
      "    for i in range(size):\n",
      "        a, b = b, a+b\n",
      "        yield b\n",
      "\n",
      "for i in fib(8):\n",
      "    print i \n",
      "    "
     ],
     "language": "python",
     "metadata": {},
     "outputs": [
      {
       "output_type": "stream",
       "stream": "stdout",
       "text": [
        "1\n",
        "2\n",
        "3\n",
        "5\n",
        "8\n",
        "13\n",
        "21\n",
        "34\n"
       ]
      }
     ],
     "prompt_number": 27
    },
    {
     "cell_type": "code",
     "collapsed": false,
     "input": [
      "def y_test():\n",
      "    print 'block a'\n",
      "    yield 1\n",
      "    print 'block b'\n",
      "    yield 2\n",
      "    print 'block c'\n",
      "    yield 3\n",
      "for i in y_test():\n",
      "    print i\n",
      "print \n",
      "for i in y_test():\n",
      "    print i\n",
      "\n",
      "print     \n",
      "s = y_test()\n",
      "print s.next()\n",
      "print s.next()"
     ],
     "language": "python",
     "metadata": {},
     "outputs": [
      {
       "output_type": "stream",
       "stream": "stdout",
       "text": [
        "block a\n",
        "1\n",
        "block b\n",
        "2\n",
        "block c\n",
        "3\n",
        "\n",
        "block a\n",
        "1\n",
        "block b\n",
        "2\n",
        "block c\n",
        "3\n",
        "\n",
        "block a\n",
        "1\n",
        "block b\n",
        "2\n"
       ]
      }
     ],
     "prompt_number": 35
    },
    {
     "cell_type": "code",
     "collapsed": false,
     "input": [
      "class Bank:\n",
      "    crisis = False\n",
      "    def create_atm(self):\n",
      "        while not self.crisis:\n",
      "            yield '$100'\n",
      "            \n",
      "hsbc = Bank()\n",
      "corner_street_atm = hsbc.create_atm()\n",
      "print corner_street_atm.next()\n",
      "print [corner_street_atm.next() for cash in range(5) ]\n",
      "hsbc.crisis = True\n",
      "try:\n",
      "    print( corner_street_atm.next() )\n",
      "except StopIteration as e:\n",
      "    print 'StopIteretaion Error'\n",
      "\n",
      "hsbc.crisis = False\n",
      "wall_street_atm = hsbc.create_atm() \n",
      "print ('wall street:'),(wall_street_atm.next())\n",
      "#print (corner_street_atm.next()) # this gonna have exception beacaust corner_street_atm has been already closed.\n",
      "\n",
      "brand_new_atm = hsbc.create_atm()\n",
      "print 'brand_new:',brand_new_atm.next()"
     ],
     "language": "python",
     "metadata": {},
     "outputs": [
      {
       "output_type": "stream",
       "stream": "stdout",
       "text": [
        "$100\n",
        "['$100', '$100', '$100', '$100', '$100']\n",
        "StopIteretaion Error\n",
        "wall street: $100\n",
        "brand_new: $100\n"
       ]
      }
     ],
     "prompt_number": 105
    },
    {
     "cell_type": "markdown",
     "metadata": {},
     "source": [
      "###super\n",
      "http://rhettinger.wordpress.com/2011/05/26/super-considered-super/"
     ]
    },
    {
     "cell_type": "markdown",
     "metadata": {},
     "source": [
      "**python2 syntax**\n",
      "http://code.activestate.com/recipes/577721-how-to-use-super-effectively-python-27-version/\n",
      "\n",
      "**python3 syntax**\n",
      "http://code.activestate.com/recipes/577720-how-to-use-super-effectively/"
     ]
    },
    {
     "cell_type": "code",
     "collapsed": false,
     "input": [
      "import collections\n",
      "import logging\n",
      "\n",
      "logging.basicConfig(level = 'INFO')\n",
      "class LoggingDict(dict):\n",
      "    def __setitem__(self, key, value):\n",
      "        logging.info( 'Setting %s to %s ' % (key, value) )\n",
      "        super(LoggingDict, self).__setitem__(key,value)\n",
      "\n",
      "class LoggingOD(LoggingDict, collections.OrderedDict):\n",
      "    pass\n",
      "\n",
      "ld = LoggingDict( [('red',1),('green',2),('blue',3)])\n",
      "print ld\n",
      "ld['red'] = 10\n",
      "\n",
      "ld = LoggingOD( [('red', 1), ('green', 2), ('blue', 3)])\n",
      "print ld\n",
      "ld['red'] = 10\n",
      "print '-' * 20\n",
      "\n",
      "def show_call_order(cls, methname):\n",
      "    classes = [cls for cls in cls.__mro__ if methname in cls.__dict__ ]\n",
      "    print('  ==>  '.join('%s.%s' % (cls.__name__, methname) for cls in classes))\n",
      "    \n",
      "show_call_order(LoggingOD, '__setitem__')\n",
      "show_call_order(LoggingOD, '__iter__')\n",
      "print('-' * 20)\n",
      "\n",
      "# ------- Validate and document any call order requirements -----\n",
      "position = LoggingOD.__mro__.index\n",
      "assert position(LoggingDict) < position(collections.OrderedDict)\n",
      "assert position(collections.OrderedDict) < position(dict)\n",
      "\n"
     ],
     "language": "python",
     "metadata": {},
     "outputs": [
      {
       "output_type": "stream",
       "stream": "stdout",
       "text": [
        "{'blue': 3, 'green': 2, 'red': 1}\n",
        "LoggingOD([('red', 1), ('green', 2), ('blue', 3)])\n",
        "--------------------\n",
        "LoggingDict.__setitem__  ==>  OrderedDict.__setitem__  ==>  dict.__setitem__\n",
        "OrderedDict.__iter__  ==>  dict.__iter__\n",
        "--------------------\n"
       ]
      }
     ],
     "prompt_number": 52
    },
    {
     "cell_type": "code",
     "collapsed": false,
     "input": [
      "# ------- Getting the argument signatures to match --------------\n",
      "\n",
      "class Shape(object):\n",
      "    def __init__(self, shapename, **kwds):\n",
      "        self.shapename = shapename\n",
      "        #super(Shape, self).__init__(**kwds)\n",
      "        print shapename\n",
      "        print kwds\n",
      "\n",
      "class ColoredShape(Shape):\n",
      "    def __init__(self, color, **kwds):\n",
      "        self.color = color\n",
      "        super(ColoredShape, self).__init__(**kwds)\n",
      "        print type(kwds)\n",
      "\n",
      "classes = [cls for cls in ColoredShape.__mro__ if '__init__' in cls.__dict__ ]\n",
      "print '==>'.join( '%s' % cls for cls in classes )\n",
      "print ColoredShape.__mro__\n",
      "#cs = ColoredShape(color='red', shapename='circle')\n"
     ],
     "language": "python",
     "metadata": {},
     "outputs": [
      {
       "output_type": "stream",
       "stream": "stdout",
       "text": [
        "<class '__main__.ColoredShape'>==><class '__main__.Shape'>==><type 'object'>\n",
        "(<class '__main__.ColoredShape'>, <class '__main__.Shape'>, <type 'object'>)\n"
       ]
      }
     ],
     "prompt_number": 95
    },
    {
     "cell_type": "code",
     "collapsed": false,
     "input": [
      "class Funk:\n",
      "    def __init__(self):\n",
      "        print 'Funk music is great'\n",
      "f = Funk()"
     ],
     "language": "python",
     "metadata": {},
     "outputs": [
      {
       "output_type": "stream",
       "stream": "stdout",
       "text": [
        "Funk music is great\n"
       ]
      }
     ],
     "prompt_number": 79
    },
    {
     "cell_type": "markdown",
     "metadata": {},
     "source": [
      "### mro method resolution order\n",
      "http://stackoverflow.com/questions/2010692/what-does-mro-do-in-python"
     ]
    }
   ],
   "metadata": {}
  }
 ]
}