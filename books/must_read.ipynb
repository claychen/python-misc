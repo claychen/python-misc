{
 "metadata": {
  "name": ""
 },
 "nbformat": 3,
 "nbformat_minor": 0,
 "worksheets": [
  {
   "cells": [
    {
     "cell_type": "markdown",
     "metadata": {},
     "source": [
      "## A collection of python \"must reads\"\n",
      "http://jessenoller.com/good-to-great-python-reads/"
     ]
    },
    {
     "cell_type": "markdown",
     "metadata": {},
     "source": [
      "### The Python yield keyword explained\n",
      "http://stackoverflow.com/questions/231767/the-python-yield-keyword-explained/231855#231855\n",
      "### \u9019\u500b\u7bc4\u4f8b\u7c21\u76f4\u4f5b\u5fc3\u4f86\u8457"
     ]
    },
    {
     "cell_type": "code",
     "collapsed": false,
     "input": [
      "# iteratable such as lists, strings, files. Load all context into memory at once\n",
      "mylist = [x*x for x in range(3)]\n",
      "for i in mylist:\n",
      "    print(i)"
     ],
     "language": "python",
     "metadata": {},
     "outputs": [
      {
       "output_type": "stream",
       "stream": "stdout",
       "text": [
        "0\n",
        "1\n",
        "4\n"
       ]
      }
     ],
     "prompt_number": 226
    },
    {
     "cell_type": "code",
     "collapsed": false,
     "input": [
      "# generator. Evaluate every item on the fly. Cannot perform them second time.\n",
      "mygenerator = (x*x for x in range(3))\n",
      "for i in mygenerator:\n",
      "    print(i)"
     ],
     "language": "python",
     "metadata": {},
     "outputs": [
      {
       "output_type": "stream",
       "stream": "stdout",
       "text": [
        "0\n",
        "1\n",
        "4\n"
       ]
      }
     ],
     "prompt_number": 227
    },
    {
     "cell_type": "code",
     "collapsed": false,
     "input": [
      "def createGenerator():\n",
      "    print 'start'\n",
      "    mylist = range(3)\n",
      "    for i in mylist:\n",
      "        if i == 2:\n",
      "            mylist.append(3)\n",
      "            mylist.append(4)\n",
      "        \n",
      "        if i != 4:\n",
      "            yield i*i\n",
      "    print 'end'\n",
      "mygenerator = createGenerator() # create a generator\n",
      "print(mygenerator) # mygenerator is an object!\n",
      "#<generator object createGenerator at 0xb7555c34>\n",
      "print '-----'\n",
      "for i in mygenerator:\n",
      "    print(i)"
     ],
     "language": "python",
     "metadata": {},
     "outputs": [
      {
       "output_type": "stream",
       "stream": "stdout",
       "text": [
        "<generator object createGenerator at 0x7f50881c5640>\n",
        "-----\n",
        "start\n",
        "0\n",
        "1\n",
        "4\n",
        "9\n",
        "end\n"
       ]
      }
     ],
     "prompt_number": 228
    },
    {
     "cell_type": "markdown",
     "metadata": {},
     "source": [
      "To master yield, you must understand that **when you call the function, the code you have written in the function body does not run.** The function only returns the generator object, this is a bit tricky :-)\n"
     ]
    },
    {
     "cell_type": "code",
     "collapsed": false,
     "input": [
      "# fibnacci number\n",
      "def fib( size = 10 ):\n",
      "    a, b = 0,1\n",
      "    for i in range(size):\n",
      "        a, b = b, a+b\n",
      "        yield b\n",
      "\n",
      "for i in fib(8):\n",
      "    print i \n",
      "    "
     ],
     "language": "python",
     "metadata": {},
     "outputs": [
      {
       "output_type": "stream",
       "stream": "stdout",
       "text": [
        "1\n",
        "2\n",
        "3\n",
        "5\n",
        "8\n",
        "13\n",
        "21\n",
        "34\n"
       ]
      }
     ],
     "prompt_number": 229
    },
    {
     "cell_type": "code",
     "collapsed": false,
     "input": [
      "def y_test():\n",
      "    print 'block a'\n",
      "    yield 1\n",
      "    print 'block b'\n",
      "    yield 2\n",
      "    print 'block c'\n",
      "    yield 3\n",
      "for i in y_test():\n",
      "    print i\n",
      "print \n",
      "for i in y_test():\n",
      "    print i\n",
      "\n",
      "print     \n",
      "s = y_test()\n",
      "print s.next()\n",
      "print s.next()"
     ],
     "language": "python",
     "metadata": {},
     "outputs": [
      {
       "output_type": "stream",
       "stream": "stdout",
       "text": [
        "block a\n",
        "1\n",
        "block b\n",
        "2\n",
        "block c\n",
        "3\n",
        "\n",
        "block a\n",
        "1\n",
        "block b\n",
        "2\n",
        "block c\n",
        "3\n",
        "\n",
        "block a\n",
        "1\n",
        "block b\n",
        "2\n"
       ]
      }
     ],
     "prompt_number": 230
    },
    {
     "cell_type": "code",
     "collapsed": false,
     "input": [
      "class Bank:\n",
      "    crisis = False\n",
      "    def create_atm(self):\n",
      "        while not self.crisis:\n",
      "            yield '$100'\n",
      "            \n",
      "hsbc = Bank()\n",
      "corner_street_atm = hsbc.create_atm()\n",
      "print corner_street_atm.next()\n",
      "print [corner_street_atm.next() for cash in range(5) ]\n",
      "hsbc.crisis = True\n",
      "try:\n",
      "    print( corner_street_atm.next() )\n",
      "except StopIteration as e:\n",
      "    print 'StopIteretaion Error'\n",
      "\n",
      "hsbc.crisis = False\n",
      "wall_street_atm = hsbc.create_atm() \n",
      "print ('wall street:'),(wall_street_atm.next())\n",
      "#print (corner_street_atm.next()) # this gonna have exception beacaust corner_street_atm has been already closed.\n",
      "\n",
      "brand_new_atm = hsbc.create_atm()\n",
      "print 'brand_new:',brand_new_atm.next()"
     ],
     "language": "python",
     "metadata": {},
     "outputs": [
      {
       "output_type": "stream",
       "stream": "stdout",
       "text": [
        "$100\n",
        "['$100', '$100', '$100', '$100', '$100']\n",
        "StopIteretaion Error\n",
        "wall street: $100\n",
        "brand_new: $100\n"
       ]
      }
     ],
     "prompt_number": 231
    },
    {
     "cell_type": "markdown",
     "metadata": {},
     "source": [
      "### Python's super() considered super!\n",
      "http://rhettinger.wordpress.com/2011/05/26/super-considered-super/"
     ]
    },
    {
     "cell_type": "markdown",
     "metadata": {},
     "source": [
      "**python2 syntax**\n",
      "http://code.activestate.com/recipes/577721-how-to-use-super-effectively-python-27-version/\n",
      "\n",
      "**python3 syntax**\n",
      "http://code.activestate.com/recipes/577720-how-to-use-super-effectively/"
     ]
    },
    {
     "cell_type": "markdown",
     "metadata": {},
     "source": [
      "### mro method resolution order\n",
      "http://stackoverflow.com/questions/2010692/what-does-mro-do-in-python"
     ]
    },
    {
     "cell_type": "code",
     "collapsed": false,
     "input": [
      "import collections\n",
      "import logging\n",
      "\n",
      "logging.basicConfig(level = 'INFO')\n",
      "class LoggingDict(dict):\n",
      "    def __setitem__(self, key, value):\n",
      "        logging.info( 'Setting %s to %s ' % (key, value) )\n",
      "        super(LoggingDict, self).__setitem__(key,value)\n",
      "\n",
      "class LoggingOD(LoggingDict, collections.OrderedDict):\n",
      "    pass\n",
      "\n",
      "ld = LoggingDict( [('red',1),('green',2),('blue',3)])\n",
      "print ld\n",
      "ld['red'] = 10\n",
      "\n",
      "ld = LoggingOD( [('red', 1), ('green', 2), ('blue', 3)])\n",
      "print ld\n",
      "ld['red'] = 10\n",
      "print '-' * 20\n",
      "\n",
      "def show_call_order(cls, methname):\n",
      "    classes = [cls for cls in cls.__mro__ if methname in cls.__dict__ ]\n",
      "    print('  ==>  '.join('%s.%s' % (cls.__name__, methname) for cls in classes))\n",
      "    \n",
      "show_call_order(LoggingOD, '__setitem__')\n",
      "show_call_order(LoggingOD, '__iter__')\n",
      "print('-' * 20)\n",
      "\n",
      "# ------- Validate and document any call order requirements -----\n",
      "position = LoggingOD.__mro__.index\n",
      "assert position(LoggingDict) < position(collections.OrderedDict)\n",
      "assert position(collections.OrderedDict) < position(dict)\n",
      "\n"
     ],
     "language": "python",
     "metadata": {},
     "outputs": [
      {
       "output_type": "stream",
       "stream": "stdout",
       "text": [
        "{'blue': 3, 'green': 2, 'red': 1}\n",
        "LoggingOD([('red', 1), ('green', 2), ('blue', 3)])\n",
        "--------------------\n",
        "LoggingDict.__setitem__  ==>  OrderedDict.__setitem__  ==>  dict.__setitem__\n",
        "OrderedDict.__iter__  ==>  dict.__iter__\n",
        "--------------------\n"
       ]
      }
     ],
     "prompt_number": 232
    },
    {
     "cell_type": "code",
     "collapsed": false,
     "input": [
      "# ------- Getting the argument signatures to match --------------\n",
      "\n",
      "class Shape(object):\n",
      "    def __init__(self, shapename, **kwds):\n",
      "        self.shapename = shapename\n",
      "        super(Shape, self).__init__(**kwds)\n",
      "\n",
      "class ColoredShape(Shape):\n",
      "    # a value of shapename is in kwds\n",
      "    def __init__(self, color, **kwds):\n",
      "        self.color = color\n",
      "        super(ColoredShape, self).__init__(**kwds)\n",
      "        \n",
      "\n",
      "classes = [cls for cls in ColoredShape.__mro__ if '__init__' in cls.__dict__ ]\n",
      "print \"mro of __init__ in class ColoredShape::\",' ==> '.join( '%s' % cls for cls in classes )\n",
      "cs = ColoredShape(color='red', shapename='circle')\n"
     ],
     "language": "python",
     "metadata": {},
     "outputs": [
      {
       "output_type": "stream",
       "stream": "stdout",
       "text": [
        "mro of __init__ in class ColoredShape:: <class 'ColoredShape'> ==> <class 'Shape'> ==> <type 'object'>\n"
       ]
      }
     ],
     "prompt_number": 233
    },
    {
     "cell_type": "code",
     "collapsed": false,
     "input": [
      "class Root(object):\n",
      "    def draw(self):\n",
      "        # the delegation chain stops here\n",
      "        assert not hasattr(super(Root, self), 'draw')\n",
      "\n",
      "class Shape(Root):\n",
      "    def __init__(self, shapename, **kwds):\n",
      "        self.shapename = shapename\n",
      "        super(Shape, self).__init__(**kwds)\n",
      "    def draw(self):\n",
      "        print 'Drawing.  Setting shape to:', self.shapename\n",
      "        super(Shape, self).draw()\n",
      "\n",
      "class ColoredShape(Shape):\n",
      "    def __init__(self, color, **kwds):\n",
      "        self.color = color\n",
      "        super(ColoredShape, self).__init__(**kwds)\n",
      "    def draw(self):\n",
      "        print 'Drawing.  Setting color to:', self.color\n",
      "        super(ColoredShape, self).draw()\n",
      "\n",
      "ColoredShape(color='blue', shapename='square').draw()\n",
      "print '-' * 20"
     ],
     "language": "python",
     "metadata": {},
     "outputs": [
      {
       "output_type": "stream",
       "stream": "stdout",
       "text": [
        "Drawing.  Setting color to: blue\n",
        "Drawing.  Setting shape to: square\n",
        "--------------------\n"
       ]
      }
     ],
     "prompt_number": 234
    },
    {
     "cell_type": "code",
     "collapsed": false,
     "input": [
      "# ------- Show how to incorporate a non-cooperative class --------\n",
      "\n",
      "class Moveable(object):\n",
      "    # non-cooperative class that doesn't use super()\n",
      "    def __init__(self, x, y):\n",
      "        self.x = x\n",
      "        self.y = y\n",
      "    def draw(self):\n",
      "        print 'Drawing at position:', self.x, self.y\n",
      "\n",
      "class MoveableAdapter(Root):\n",
      "    # make a cooperative adapter class for Moveable\n",
      "    def __init__(self, x, y, **kwds):\n",
      "        self.moveable = Moveable(x, y)\n",
      "        super(MoveableAdapter, self).__init__(**kwds)\n",
      "    def draw(self):\n",
      "        self.moveable.draw()\n",
      "        super(MoveableAdapter, self).draw()\n",
      "\n",
      "class MovableColoredShape(ColoredShape, MoveableAdapter):\n",
      "    pass\n",
      "\n",
      "MovableColoredShape(color='red', shapename='triangle', x=10, y=20).draw()\n",
      "\n"
     ],
     "language": "python",
     "metadata": {},
     "outputs": [
      {
       "output_type": "stream",
       "stream": "stdout",
       "text": [
        "Drawing.  Setting color to: red\n",
        "Drawing.  Setting shape to: triangle\n",
        "Drawing at position: 10 20\n"
       ]
      }
     ],
     "prompt_number": 235
    },
    {
     "cell_type": "code",
     "collapsed": false,
     "input": [
      "show_call_order(MovableColoredShape, 'draw')"
     ],
     "language": "python",
     "metadata": {},
     "outputs": [
      {
       "output_type": "stream",
       "stream": "stdout",
       "text": [
        "ColoredShape.draw  ==>  Shape.draw  ==>  MoveableAdapter.draw  ==>  Root.draw\n"
       ]
      }
     ],
     "prompt_number": 236
    },
    {
     "cell_type": "code",
     "collapsed": false,
     "input": [
      "# -------- Complete example ------------------------------------\n",
      "# 2014.07.12 I cannot quite understand this example, because I cannot decompose this.\n",
      "# I don't know why print variable 'oc' gets OrderedCounter(OrderedDict([('a', 5), ('b', 2), ('r', 2), ('c', 1), ('d', 1)]))\n",
      "# but print variable 'ordereddict' gets OrderedDict([('a', 5), ('r', 2), ('b', 2), ('c', 1), ('d', 1)])\n",
      "# After I googled for the usage of OrderedDict. I found it just remember the order of inserting items.\n",
      "# Why the sequence is different?\n",
      "\n",
      "\n",
      "# Question: what __reduce__ is for ?\n",
      "from collections import Counter, OrderedDict\n",
      "\n",
      "class OrderedCounter(Counter, OrderedDict):\n",
      "    # Question: How to add __init__ for OrderedCounter? just reference the __init__ of Counter\n",
      "    # in fact '__init__' is total unnecessary.\n",
      "    def __init__(self, iteratable=None, **kwds ):\n",
      "        super(OrderedCounter,self).__init__(iteratable, **kwds)\n",
      "        \n",
      "    'Counter that remembers the order elements are first encountered'\n",
      "    def __repr__(self):\n",
      "        return '%s(%r)' % (self.__class__.__name__, OrderedDict(self))\n",
      "    \n",
      "    def __reduce__(self):\n",
      "        return self.__class__, (OrderedDict(self),)\n",
      "\n",
      "'abracadabra'\n",
      "oc = OrderedCounter('abracadabra')\n",
      "print oc\n",
      "\n",
      "#counter = Counter('abracadabra')\n",
      "counter = Counter('abcdeabcdabcaba')\n",
      "print counter\n",
      "ordereddict = OrderedDict( counter.most_common(3) )\n",
      "print ordereddict"
     ],
     "language": "python",
     "metadata": {},
     "outputs": [
      {
       "output_type": "stream",
       "stream": "stdout",
       "text": [
        "OrderedCounter(OrderedDict([('a', 5), ('b', 2), ('r', 2), ('c', 1), ('d', 1)]))\n",
        "Counter({'a': 5, 'b': 4, 'c': 3, 'd': 2, 'e': 1})\n",
        "OrderedDict([('a', 5), ('b', 4), ('c', 3)])\n"
       ]
      }
     ],
     "prompt_number": 288
    },
    {
     "cell_type": "code",
     "collapsed": false,
     "input": [
      "# A little test for **kwds\n",
      "class Ctest:\n",
      "    def __init__(self, a, **kwds):\n",
      "        print 'a is ', a\n",
      "        for k, v in kwds.items():\n",
      "            print k, ' ', v\n",
      "            \n",
      "c = Ctest(  asf=10, a=100, saf='asdf')"
     ],
     "language": "python",
     "metadata": {},
     "outputs": [
      {
       "output_type": "stream",
       "stream": "stdout",
       "text": [
        "a is  100\n",
        "saf   asdf\n",
        "asf   10\n"
       ]
      }
     ],
     "prompt_number": 245
    },
    {
     "cell_type": "markdown",
     "metadata": {},
     "source": [
      "### Understanding Python decorator\n",
      "http://stackoverflow.com/questions/739654/how-can-i-make-a-chain-of-function-decorators-in-python/1594484#1594484\n",
      "### \u9019\u500b\u7bc4\u4f8b\u7c21\u76f4\u4f5b\u5fc3\u4f86\u8457"
     ]
    },
    {
     "cell_type": "markdown",
     "metadata": {},
     "source": [
      "Decorators are \u201cwrappers\u201d, which means that they let you execute code before and after the function they decorate without modifying the function itself."
     ]
    },
    {
     "cell_type": "code",
     "collapsed": false,
     "input": [
      "# In python, method is a object...\n",
      "# return a function\n",
      "# passing a function as a parameter\n",
      "# \n",
      "def getTalk(kind = 'Shout'):\n",
      "    def shout(word = 'yes'):\n",
      "        print word,'!'\n",
      "    def whisper(word = 'yes'):\n",
      "        print word, '...'\n",
      "        \n",
      "    if kind == 'Shout':\n",
      "        return shout\n",
      "    else:\n",
      "        return whisper\n",
      "\n",
      "talk = getTalk('Whisper')\n",
      "talk('I love you')\n",
      "getTalk('Shout')('I love you')"
     ],
     "language": "python",
     "metadata": {},
     "outputs": [
      {
       "output_type": "stream",
       "stream": "stdout",
       "text": [
        "I love you ...\n",
        "I love you !\n"
       ]
      }
     ],
     "prompt_number": 293
    },
    {
     "cell_type": "code",
     "collapsed": false,
     "input": [
      "def funcAsParam(func, *arg):\n",
      "    print 'Do something in funcAsParam()'\n",
      "    func(arg[0])\n",
      "\n",
      "funcAsParam( getTalk('Shout'), 'I am anrgy, say something')"
     ],
     "language": "python",
     "metadata": {},
     "outputs": [
      {
       "output_type": "stream",
       "stream": "stdout",
       "text": [
        "Do something in funcAsParam()\n",
        "I am anrgy, say something !\n"
       ]
      }
     ],
     "prompt_number": 303
    },
    {
     "cell_type": "code",
     "collapsed": false,
     "input": [],
     "language": "python",
     "metadata": {},
     "outputs": []
    }
   ],
   "metadata": {}
  }
 ]
}